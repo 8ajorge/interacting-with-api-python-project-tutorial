{
    "cells": [
        {
            "cell_type": "markdown",
            "metadata": {},
            "source": [
                "# Explore here"
            ]
        },
        {
            "cell_type": "code",
            "execution_count": 27,
            "metadata": {},
            "outputs": [
                {
                    "data": {
                        "text/plain": [
                            "True"
                        ]
                    },
                    "execution_count": 27,
                    "metadata": {},
                    "output_type": "execute_result"
                }
            ],
            "source": [
                "import os\n",
                "import pandas as pd\n",
                "import matplotlib.pyplot as plt\n",
                "from dotenv import load_dotenv\n",
                "\n",
                "# load the .env file variables\n",
                "load_dotenv()\n",
                "\n"
            ]
        },
        {
            "cell_type": "code",
            "execution_count": 28,
            "metadata": {},
            "outputs": [],
            "source": [
                "import spotipy\n",
                "from spotipy.oauth2 import SpotifyClientCredentials"
            ]
        },
        {
            "cell_type": "code",
            "execution_count": 29,
            "metadata": {},
            "outputs": [],
            "source": [
                "client_id = os.environ.get(\"CLIENT_ID\")\n",
                "client_secret = os.environ.get(\"CLIENT_SECRET\")"
            ]
        },
        {
            "cell_type": "code",
            "execution_count": 30,
            "metadata": {},
            "outputs": [],
            "source": [
                "auth_manager = SpotifyClientCredentials(client_id=client_id, client_secret=client_secret)\n",
                "spotify = spotipy.Spotify(auth_manager=auth_manager)"
            ]
        },
        {
            "cell_type": "code",
            "execution_count": 37,
            "metadata": {},
            "outputs": [],
            "source": [
                "artist_id = \"5Pb27ujIyYb33zBqVysBkj\"\n",
                "\n",
                "# Get the top tracks of an artist\n",
                "results = spotify.artist_top_tracks(artist_id)\n",
                "\n",
                "songs = []\n",
                "for track in results['tracks']:\n",
                "    songs.append({\n",
                "        'name': track['name'],\n",
                "        'popularity': track['popularity'],\n",
                "        'duration_min': track['duration_ms'] / 60000\n",
                "    })"
            ]
        },
        {
            "cell_type": "code",
            "execution_count": 38,
            "metadata": {},
            "outputs": [
                {
                    "name": "stdout",
                    "output_type": "stream",
                    "text": [
                        "                               name  popularity  duration_min\n",
                        "0                        Innerbloom          78      9.634000\n",
                        "1                    You Were Right          77      3.990283\n",
                        "2                       On My Knees          75      4.350017\n",
                        "3  In the Moment - Adriatique Remix          66      4.176283\n",
                        "4           Innerbloom - Radio Edit          73      3.967783\n",
                        "5                          Sundream          69      4.591550\n",
                        "6       Until the Sun Needs to Rise          70      4.867400\n",
                        "7                            Lately          68      4.159550\n",
                        "8                   Music is Better          66      3.934667\n",
                        "9                        Next to Me          67      5.239817\n"
                    ]
                }
            ],
            "source": [
                "tracks_df = pd.DataFrame(songs)\n",
                "\n",
                "print(tracks_df)"
            ]
        },
        {
            "cell_type": "code",
            "execution_count": 43,
            "metadata": {},
            "outputs": [],
            "source": [
                "artist_id_badbunny = \"4q3ewBCX7sLwd24euuV69X\"\n",
                "\n",
                "# Get the top tracks of an artist\n",
                "results_badbunny = spotify.artist_top_tracks(artist_id_badbunny)\n",
                "\n",
                "songs_badbunny = []\n",
                "for track in results_badbunny['tracks']:\n",
                "    songs_badbunny.append({\n",
                "        'name': track['name'],\n",
                "        'popularity': track['popularity'],\n",
                "        'duration_min': track['duration_ms'] / 60000\n",
                "    })"
            ]
        },
        {
            "cell_type": "code",
            "execution_count": 44,
            "metadata": {},
            "outputs": [
                {
                    "name": "stdout",
                    "output_type": "stream",
                    "text": [
                        "                   name  popularity  duration_min\n",
                        "0                  DtMF          98      3.951950\n",
                        "1     BAILE INoLVIDABLE          96      6.128750\n",
                        "2                   EoO          94      3.412800\n",
                        "3              NUEVAYoL          94      3.061417\n",
                        "4  VOY A LLeVARTE PA PR          93      2.606067\n",
                        "5                 VeLDÁ          93      3.922267\n",
                        "6        Qué Pasaría...          91      3.183633\n",
                        "7             KLOuFRENS          91      3.318567\n",
                        "8               WELTiTA          90      3.125117\n",
                        "9            LA CANCIÓN          89      4.042883\n"
                    ]
                }
            ],
            "source": [
                "tracks_df_badbunny = pd.DataFrame(songs_badbunny)\n",
                "\n",
                "print(tracks_df_badbunny)"
            ]
        },
        {
            "cell_type": "code",
            "execution_count": 45,
            "metadata": {},
            "outputs": [
                {
                    "data": {
                        "image/png": "[encoded data removed]",
                        "text/plain": [
                            "<Figure size 640x480 with 1 Axes>"
                        ]
                    },
                    "metadata": {},
                    "output_type": "display_data"
                }
            ],
            "source": [
                "plt.scatter(tracks_df['duration_min'], tracks_df['popularity'])\n",
                "plt.scatter(tracks_df_badbunny['duration_min'], tracks_df_badbunny['popularity'], color='red')\n",
                "plt.xlabel('Duration (minutes)')\n",
                "plt.ylabel('Popularity')\n",
                "plt.title('Relationship between duration and popularity')\n",
                "plt.show()"
            ]
        }
    ],
    "metadata": {
        "kernelspec": {
            "display_name": "Python 3",
            "language": "python",
            "name": "python3"
        },
        "language_info": {
            "codemirror_mode": {
                "name": "ipython",
                "version": 3
            },
            "file_extension": ".py",
            "mimetype": "text/x-python",
            "name": "python",
            "nbconvert_exporter": "python",
            "pygments_lexer": "ipython3",
            "version": "3.13.1"
        },
        "orig_nbformat": 4
    },
    "nbformat": 4,
    "nbformat_minor": 2
}
